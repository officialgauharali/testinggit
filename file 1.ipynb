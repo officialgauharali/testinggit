{
 "cells": [
  {
   "cell_type": "markdown",
   "id": "12eb356b-ce07-4a68-b748-eb6246ce4682",
   "metadata": {},
   "source": [
    "### ``` Python Basic Variable```"
   ]
  },
  {
   "cell_type": "raw",
   "id": "894ab3f6-c2d2-4916-86c2-f914e98c9cb8",
   "metadata": {},
   "source": [
    "1. Declare two variables, `x` and `y`, and assign them integer values. Swap the\n",
    "values of these variables without using any temporary variable."
   ]
  },
  {
   "cell_type": "code",
   "execution_count": 9,
   "id": "6d15aedf-6192-4397-a32e-0d7ce266e949",
   "metadata": {},
   "outputs": [
    {
     "name": "stdout",
     "output_type": "stream",
     "text": [
      "initial values of a and b consecutively are :  10 11\n",
      "final values of a and b consecutively are : 11 10\n"
     ]
    }
   ],
   "source": [
    "a = 10\n",
    "b = 11\n",
    "print(\"initial values of a and b consecutively are : \", a,b)\n",
    "a,b = b,a\n",
    "print(\"final values of a and b consecutively are :\", a,b)"
   ]
  },
  {
   "cell_type": "raw",
   "id": "555b35d9-82d2-4069-9cc3-468bc8c82bc4",
   "metadata": {},
   "source": [
    "2. Create a program that calculates the area of a rectangle. Take the length and\n",
    "width as inputs from the user and store them in variables. Calculate and\n",
    "display the area."
   ]
  },
  {
   "cell_type": "code",
   "execution_count": 13,
   "id": "a7e47da0-1980-4cf9-99f3-7196c6504d2a",
   "metadata": {},
   "outputs": [
    {
     "name": "stdin",
     "output_type": "stream",
     "text": [
      "Enter the lenght of the rectangle : 12\n",
      "Enter the breadth of the rectangle : 3\n"
     ]
    },
    {
     "name": "stdout",
     "output_type": "stream",
     "text": [
      "area of rectangle :  36.0\n"
     ]
    }
   ],
   "source": [
    "l = float(input(\"Enter the lenght of the rectangle :\"))\n",
    "b = float(input(\"Enter the breadth of the rectangle :\"))\n",
    "print(\"area of rectangle : \",l*b)"
   ]
  },
  {
   "cell_type": "raw",
   "id": "21476d3b-8658-483e-96ae-c16ed11a4faf",
   "metadata": {},
   "source": [
    "3. Write a Python program that converts temperatures from Celsius to\n",
    "Fahrenheit. Take the temperature in Celsius as input, store it in a variable,\n",
    "convert it to Fahrenheit, and display the result."
   ]
  },
  {
   "cell_type": "code",
   "execution_count": 19,
   "id": "87c5fd3f-6b5e-4a6f-85a8-cacb4448369b",
   "metadata": {},
   "outputs": [
    {
     "name": "stdin",
     "output_type": "stream",
     "text": [
      "Enter the temperature in celcius : 12\n"
     ]
    },
    {
     "name": "stdout",
     "output_type": "stream",
     "text": [
      "the temperature in farenheit is :  53.6\n"
     ]
    }
   ],
   "source": [
    "c = float(input(\"Enter the temperature in celcius :\"))\n",
    "# f = (9*c /5)+32 this is conversion formula from celcius to farenheit\n",
    "f = ((9*c)/5)+32\n",
    "print(\"the temperature in farenheit is : \",f)"
   ]
  },
  {
   "cell_type": "markdown",
   "id": "a68d6aee-abfe-43ce-b053-5e242e5207fa",
   "metadata": {},
   "source": [
    "### ``` string Based Question```"
   ]
  },
  {
   "cell_type": "raw",
   "id": "21d256ce-c05c-42bd-9e90-c6644379c17c",
   "metadata": {},
   "source": [
    "1. Write a Python program that takes a string as input and prints the length of\n",
    "the string."
   ]
  },
  {
   "cell_type": "code",
   "execution_count": 25,
   "id": "5f7c5840-3b3f-48fd-8497-3b78828f63ed",
   "metadata": {},
   "outputs": [
    {
     "name": "stdin",
     "output_type": "stream",
     "text": [
      "enter the string : hi how are you\n"
     ]
    },
    {
     "name": "stdout",
     "output_type": "stream",
     "text": [
      "Length of string : 14\n"
     ]
    }
   ],
   "source": [
    "s = input(\"enter the string :\")\n",
    "l = len(s)\n",
    "print(\"Length of string :\",l)"
   ]
  },
  {
   "cell_type": "raw",
   "id": "ad907d0c-fffa-4193-b32b-8667abf6e777",
   "metadata": {},
   "source": [
    "2. Create a program that takes a sentence from the user and counts the number\n",
    "of vowels (a, e, i, o, u) in the string."
   ]
  },
  {
   "cell_type": "code",
   "execution_count": 29,
   "id": "43092da9-5878-45ca-b4db-f332661d078e",
   "metadata": {},
   "outputs": [
    {
     "name": "stdin",
     "output_type": "stream",
     "text": [
      "enter the string :  Hi I am gauahr \n"
     ]
    },
    {
     "name": "stdout",
     "output_type": "stream",
     "text": [
      "Total number of vowels are :  6\n"
     ]
    }
   ],
   "source": [
    "s = input(\"enter the string : \")\n",
    "v = ['a', 'e', 'i', 'o', 'u','A', 'E', 'I', 'O', 'U']\n",
    "count = 0\n",
    "for i in s:\n",
    "    for j in v:\n",
    "        if i ==j:\n",
    "            count = count+1\n",
    "\n",
    "print(\"Total number of vowels are : \",count)\n"
   ]
  },
  {
   "cell_type": "raw",
   "id": "2f3ba4d1-19cb-4475-ae74-1b45f20f878a",
   "metadata": {},
   "source": [
    "3. Given a string, reverse the order of characters using string slicing and print\n",
    "the reversed string."
   ]
  },
  {
   "cell_type": "code",
   "execution_count": 57,
   "id": "1a488e3e-0e9e-43a2-89d7-d7cfc2e2bc68",
   "metadata": {},
   "outputs": [
    {
     "name": "stdin",
     "output_type": "stream",
     "text": [
      "enter the string :            \n"
     ]
    },
    {
     "name": "stdout",
     "output_type": "stream",
     "text": [
      "string in reverse order is :  \n"
     ]
    }
   ],
   "source": [
    "s = input(\"enter the string : \").strip()\n",
    "print(\"string in reverse order is : \", s[::-1])"
   ]
  },
  {
   "cell_type": "raw",
   "id": "6db3e7e5-76b0-404a-9844-1b4300c0cfbc",
   "metadata": {},
   "source": [
    "4. Write a program that takes a string as input and checks if it is a palindrome\n",
    "(reads the same forwards and backwards)."
   ]
  },
  {
   "cell_type": "code",
   "execution_count": 53,
   "id": "54009233-227d-4715-81f4-283fae73f618",
   "metadata": {},
   "outputs": [
    {
     "name": "stdin",
     "output_type": "stream",
     "text": [
      "enter the string                       \\\n"
     ]
    },
    {
     "name": "stdout",
     "output_type": "stream",
     "text": [
      "the string is pallindrome:\n"
     ]
    }
   ],
   "source": [
    "s = input(\"enter the string \").strip()\n",
    "rev = s[::-1]\n",
    "if s == rev:\n",
    "    print(\"the string is pallindrome:\")\n",
    "else :\n",
    "    print(\"not pallindrome\")"
   ]
  },
  {
   "cell_type": "raw",
   "id": "a3d16ef5-abe2-4f1c-8b44-ad8d3fe431fe",
   "metadata": {},
   "source": [
    "5. Create a program that takes a string as input and removes all the spaces from\n",
    "it. Print the modified string without spaces."
   ]
  },
  {
   "cell_type": "code",
   "execution_count": 59,
   "id": "e14db2ba-b6ac-4132-9e68-cdb6e89c63f0",
   "metadata": {},
   "outputs": [
    {
     "name": "stdin",
     "output_type": "stream",
     "text": [
      "enter the string : hi how\n"
     ]
    },
    {
     "name": "stdout",
     "output_type": "stream",
     "text": [
      "new string without space is : hihow\n"
     ]
    }
   ],
   "source": [
    "s = input(\"enter the string :\").strip()\n",
    "emp = \"\" # empty string \n",
    "for i in s:\n",
    "    if i!=\" \":\n",
    "        emp = emp+i\n",
    "\n",
    "print(\"new string without space is :\",emp)\n"
   ]
  },
  {
   "cell_type": "code",
   "execution_count": null,
   "id": "466faee4-0bb4-4a4f-aaee-51ce61d8a009",
   "metadata": {},
   "outputs": [],
   "source": []
  },
  {
   "cell_type": "code",
   "execution_count": null,
   "id": "b6173e39-e7f3-429c-89ae-7edf5b12af69",
   "metadata": {},
   "outputs": [],
   "source": []
  }
 ],
 "metadata": {
  "kernelspec": {
   "display_name": "Python 3 (ipykernel)",
   "language": "python",
   "name": "python3"
  },
  "language_info": {
   "codemirror_mode": {
    "name": "ipython",
    "version": 3
   },
   "file_extension": ".py",
   "mimetype": "text/x-python",
   "name": "python",
   "nbconvert_exporter": "python",
   "pygments_lexer": "ipython3",
   "version": "3.11.8"
  }
 },
 "nbformat": 4,
 "nbformat_minor": 5
}
